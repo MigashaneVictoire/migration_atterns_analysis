{
 "cells": [
  {
   "cell_type": "markdown",
   "id": "0dcecf0d-5be2-4301-ae90-5a0dddfbc566",
   "metadata": {
    "tags": []
   },
   "source": [
    "# Wrangle"
   ]
  },
  {
   "cell_type": "code",
   "execution_count": 1,
   "id": "c2d7b881-4104-4abc-9e48-51acf51e842c",
   "metadata": {
    "tags": []
   },
   "outputs": [],
   "source": [
    "import pandas as pd"
   ]
  },
  {
   "cell_type": "markdown",
   "id": "62875c1d-f68e-4eab-9c05-663a376e99a5",
   "metadata": {},
   "source": [
    "**Data**\n",
    "\n",
    "- main data: [data.world](https://data.world/makeovermonday/2023w3)\n",
    "- US abriviation data: [kaggle](https://www.kaggle.com/datasets/agilesifaka/us2letterstatecodecsv/)"
   ]
  },
  {
   "cell_type": "code",
   "execution_count": 2,
   "id": "cf0431da-c1a2-487a-b22c-4276c2f786e1",
   "metadata": {
    "tags": []
   },
   "outputs": [
    {
     "data": {
      "text/html": [
       "<div>\n",
       "<style scoped>\n",
       "    .dataframe tbody tr th:only-of-type {\n",
       "        vertical-align: middle;\n",
       "    }\n",
       "\n",
       "    .dataframe tbody tr th {\n",
       "        vertical-align: top;\n",
       "    }\n",
       "\n",
       "    .dataframe thead th {\n",
       "        text-align: right;\n",
       "    }\n",
       "</style>\n",
       "<table border=\"1\" class=\"dataframe\">\n",
       "  <thead>\n",
       "    <tr style=\"text-align: right;\">\n",
       "      <th></th>\n",
       "      <th>Country</th>\n",
       "      <th>STATE OR PROVINCE</th>\n",
       "      <th>Year</th>\n",
       "      <th>Inbound</th>\n",
       "      <th>Outbound</th>\n",
       "    </tr>\n",
       "  </thead>\n",
       "  <tbody>\n",
       "    <tr>\n",
       "      <th>0</th>\n",
       "      <td>United States</td>\n",
       "      <td>ALABAMA</td>\n",
       "      <td>2022</td>\n",
       "      <td>0.57</td>\n",
       "      <td>0.43</td>\n",
       "    </tr>\n",
       "    <tr>\n",
       "      <th>1</th>\n",
       "      <td>United States</td>\n",
       "      <td>ALABAMA</td>\n",
       "      <td>2021</td>\n",
       "      <td>0.59</td>\n",
       "      <td>0.41</td>\n",
       "    </tr>\n",
       "    <tr>\n",
       "      <th>2</th>\n",
       "      <td>United States</td>\n",
       "      <td>ALABAMA</td>\n",
       "      <td>2020</td>\n",
       "      <td>0.61</td>\n",
       "      <td>0.39</td>\n",
       "    </tr>\n",
       "    <tr>\n",
       "      <th>3</th>\n",
       "      <td>United States</td>\n",
       "      <td>ALABAMA</td>\n",
       "      <td>2019</td>\n",
       "      <td>0.57</td>\n",
       "      <td>0.43</td>\n",
       "    </tr>\n",
       "    <tr>\n",
       "      <th>4</th>\n",
       "      <td>United States</td>\n",
       "      <td>ALABAMA</td>\n",
       "      <td>2018</td>\n",
       "      <td>0.56</td>\n",
       "      <td>0.44</td>\n",
       "    </tr>\n",
       "  </tbody>\n",
       "</table>\n",
       "</div>"
      ],
      "text/plain": [
       "         Country STATE OR PROVINCE  Year  Inbound  Outbound\n",
       "0  United States           ALABAMA  2022     0.57      0.43\n",
       "1  United States           ALABAMA  2021     0.59      0.41\n",
       "2  United States           ALABAMA  2020     0.61      0.39\n",
       "3  United States           ALABAMA  2019     0.57      0.43\n",
       "4  United States           ALABAMA  2018     0.56      0.44"
      ]
     },
     "execution_count": 2,
     "metadata": {},
     "output_type": "execute_result"
    }
   ],
   "source": [
    "migration = pd.read_excel(\"https://query.data.world/s/al6wfboprlcexlbsk5a44el7ukdqhr?dws=00000\")\n",
    "us = pd.read_csv(\"US-2-letter-state-code.csv\")\n",
    "migration.head()"
   ]
  },
  {
   "cell_type": "code",
   "execution_count": 3,
   "id": "0524f882-0be9-4404-bdaf-0528ace86c30",
   "metadata": {
    "tags": []
   },
   "outputs": [
    {
     "data": {
      "text/html": [
       "<div>\n",
       "<style scoped>\n",
       "    .dataframe tbody tr th:only-of-type {\n",
       "        vertical-align: middle;\n",
       "    }\n",
       "\n",
       "    .dataframe tbody tr th {\n",
       "        vertical-align: top;\n",
       "    }\n",
       "\n",
       "    .dataframe thead th {\n",
       "        text-align: right;\n",
       "    }\n",
       "</style>\n",
       "<table border=\"1\" class=\"dataframe\">\n",
       "  <thead>\n",
       "    <tr style=\"text-align: right;\">\n",
       "      <th></th>\n",
       "      <th>state_name</th>\n",
       "      <th>state_code</th>\n",
       "    </tr>\n",
       "  </thead>\n",
       "  <tbody>\n",
       "    <tr>\n",
       "      <th>0</th>\n",
       "      <td>Alabama</td>\n",
       "      <td>AL</td>\n",
       "    </tr>\n",
       "    <tr>\n",
       "      <th>1</th>\n",
       "      <td>Alaska</td>\n",
       "      <td>AK</td>\n",
       "    </tr>\n",
       "    <tr>\n",
       "      <th>2</th>\n",
       "      <td>American Samoa</td>\n",
       "      <td>AS</td>\n",
       "    </tr>\n",
       "  </tbody>\n",
       "</table>\n",
       "</div>"
      ],
      "text/plain": [
       "       state_name state_code\n",
       "0         Alabama         AL\n",
       "1          Alaska         AK\n",
       "2  American Samoa         AS"
      ]
     },
     "execution_count": 3,
     "metadata": {},
     "output_type": "execute_result"
    }
   ],
   "source": [
    "us.head(3)"
   ]
  },
  {
   "cell_type": "code",
   "execution_count": 4,
   "id": "636932eb-5a16-4527-8ab5-9a4017012745",
   "metadata": {
    "tags": []
   },
   "outputs": [
    {
     "data": {
      "text/html": [
       "<div>\n",
       "<style scoped>\n",
       "    .dataframe tbody tr th:only-of-type {\n",
       "        vertical-align: middle;\n",
       "    }\n",
       "\n",
       "    .dataframe tbody tr th {\n",
       "        vertical-align: top;\n",
       "    }\n",
       "\n",
       "    .dataframe thead th {\n",
       "        text-align: right;\n",
       "    }\n",
       "</style>\n",
       "<table border=\"1\" class=\"dataframe\">\n",
       "  <thead>\n",
       "    <tr style=\"text-align: right;\">\n",
       "      <th></th>\n",
       "      <th>state_name</th>\n",
       "      <th>state_code</th>\n",
       "    </tr>\n",
       "  </thead>\n",
       "  <tbody>\n",
       "    <tr>\n",
       "      <th>0</th>\n",
       "      <td>Alberta</td>\n",
       "      <td>Alb</td>\n",
       "    </tr>\n",
       "    <tr>\n",
       "      <th>1</th>\n",
       "      <td>British</td>\n",
       "      <td>BC</td>\n",
       "    </tr>\n",
       "    <tr>\n",
       "      <th>2</th>\n",
       "      <td>Manitoba</td>\n",
       "      <td>Man</td>\n",
       "    </tr>\n",
       "  </tbody>\n",
       "</table>\n",
       "</div>"
      ],
      "text/plain": [
       "  state_name state_code\n",
       "0    Alberta        Alb\n",
       "1    British         BC\n",
       "2   Manitoba        Man"
      ]
     },
     "execution_count": 4,
     "metadata": {},
     "output_type": "execute_result"
    }
   ],
   "source": [
    "canada_prov = ['Alberta', 'British','Manitoba','New Brunswick','Newfoundland', 'Nova Scotia', 'Northwest Territories', 'Nunavut', 'Ontario', 'Prince Edward Island', 'Quebec','Saskatchewan','Yukon']\n",
    "ini = ['Alb', 'BC','Man','NB', 'NL', 'NS', 'NWT','NVT', 'ONT', 'PEI', 'Qc', 'Sask', 'YT']\n",
    "\n",
    "canada = pd.DataFrame({'state_name':canada_prov,\n",
    "             'state_code':ini})\n",
    "\n",
    "canada.head(3)"
   ]
  },
  {
   "cell_type": "code",
   "execution_count": 5,
   "id": "b4a570a7-7ab8-4ab0-a423-ca277a83312d",
   "metadata": {
    "tags": []
   },
   "outputs": [
    {
     "data": {
      "text/html": [
       "<div>\n",
       "<style scoped>\n",
       "    .dataframe tbody tr th:only-of-type {\n",
       "        vertical-align: middle;\n",
       "    }\n",
       "\n",
       "    .dataframe tbody tr th {\n",
       "        vertical-align: top;\n",
       "    }\n",
       "\n",
       "    .dataframe thead th {\n",
       "        text-align: right;\n",
       "    }\n",
       "</style>\n",
       "<table border=\"1\" class=\"dataframe\">\n",
       "  <thead>\n",
       "    <tr style=\"text-align: right;\">\n",
       "      <th></th>\n",
       "      <th>state_name</th>\n",
       "      <th>state_code</th>\n",
       "    </tr>\n",
       "  </thead>\n",
       "  <tbody>\n",
       "    <tr>\n",
       "      <th>0</th>\n",
       "      <td>alabama</td>\n",
       "      <td>AL</td>\n",
       "    </tr>\n",
       "    <tr>\n",
       "      <th>1</th>\n",
       "      <td>alaska</td>\n",
       "      <td>AK</td>\n",
       "    </tr>\n",
       "    <tr>\n",
       "      <th>2</th>\n",
       "      <td>american samoa</td>\n",
       "      <td>AS</td>\n",
       "    </tr>\n",
       "    <tr>\n",
       "      <th>3</th>\n",
       "      <td>arizona</td>\n",
       "      <td>AZ</td>\n",
       "    </tr>\n",
       "    <tr>\n",
       "      <th>4</th>\n",
       "      <td>arkansas</td>\n",
       "      <td>AR</td>\n",
       "    </tr>\n",
       "  </tbody>\n",
       "</table>\n",
       "</div>"
      ],
      "text/plain": [
       "       state_name state_code\n",
       "0         alabama         AL\n",
       "1          alaska         AK\n",
       "2  american samoa         AS\n",
       "3         arizona         AZ\n",
       "4        arkansas         AR"
      ]
     },
     "execution_count": 5,
     "metadata": {},
     "output_type": "execute_result"
    }
   ],
   "source": [
    "# combine the US and Canada provinces in one dataset\n",
    "initials = pd.concat([us,canada], axis=0)\n",
    "initials.state_name = initials.state_name.str.lower()\n",
    "initials.state_code = initials.state_code.str.upper()\n",
    "initials.head()"
   ]
  },
  {
   "cell_type": "code",
   "execution_count": 6,
   "id": "f6712ba0-1c08-4980-b691-e5b7061efe95",
   "metadata": {
    "tags": []
   },
   "outputs": [
    {
     "data": {
      "text/html": [
       "<div>\n",
       "<style scoped>\n",
       "    .dataframe tbody tr th:only-of-type {\n",
       "        vertical-align: middle;\n",
       "    }\n",
       "\n",
       "    .dataframe tbody tr th {\n",
       "        vertical-align: top;\n",
       "    }\n",
       "\n",
       "    .dataframe thead th {\n",
       "        text-align: right;\n",
       "    }\n",
       "</style>\n",
       "<table border=\"1\" class=\"dataframe\">\n",
       "  <thead>\n",
       "    <tr style=\"text-align: right;\">\n",
       "      <th></th>\n",
       "      <th>Year</th>\n",
       "      <th>Inbound</th>\n",
       "      <th>Outbound</th>\n",
       "    </tr>\n",
       "  </thead>\n",
       "  <tbody>\n",
       "    <tr>\n",
       "      <th>count</th>\n",
       "      <td>610.000000</td>\n",
       "      <td>610.000000</td>\n",
       "      <td>610.000000</td>\n",
       "    </tr>\n",
       "    <tr>\n",
       "      <th>mean</th>\n",
       "      <td>2017.500000</td>\n",
       "      <td>0.477689</td>\n",
       "      <td>0.510869</td>\n",
       "    </tr>\n",
       "    <tr>\n",
       "      <th>std</th>\n",
       "      <td>2.874639</td>\n",
       "      <td>0.100194</td>\n",
       "      <td>0.102179</td>\n",
       "    </tr>\n",
       "    <tr>\n",
       "      <th>min</th>\n",
       "      <td>2013.000000</td>\n",
       "      <td>0.000000</td>\n",
       "      <td>0.000000</td>\n",
       "    </tr>\n",
       "    <tr>\n",
       "      <th>25%</th>\n",
       "      <td>2015.000000</td>\n",
       "      <td>0.420000</td>\n",
       "      <td>0.450000</td>\n",
       "    </tr>\n",
       "    <tr>\n",
       "      <th>50%</th>\n",
       "      <td>2017.500000</td>\n",
       "      <td>0.490000</td>\n",
       "      <td>0.510000</td>\n",
       "    </tr>\n",
       "    <tr>\n",
       "      <th>75%</th>\n",
       "      <td>2020.000000</td>\n",
       "      <td>0.540000</td>\n",
       "      <td>0.570000</td>\n",
       "    </tr>\n",
       "    <tr>\n",
       "      <th>max</th>\n",
       "      <td>2022.000000</td>\n",
       "      <td>0.750000</td>\n",
       "      <td>1.000000</td>\n",
       "    </tr>\n",
       "  </tbody>\n",
       "</table>\n",
       "</div>"
      ],
      "text/plain": [
       "              Year     Inbound    Outbound\n",
       "count   610.000000  610.000000  610.000000\n",
       "mean   2017.500000    0.477689    0.510869\n",
       "std       2.874639    0.100194    0.102179\n",
       "min    2013.000000    0.000000    0.000000\n",
       "25%    2015.000000    0.420000    0.450000\n",
       "50%    2017.500000    0.490000    0.510000\n",
       "75%    2020.000000    0.540000    0.570000\n",
       "max    2022.000000    0.750000    1.000000"
      ]
     },
     "execution_count": 6,
     "metadata": {},
     "output_type": "execute_result"
    }
   ],
   "source": [
    "migration.describe()"
   ]
  },
  {
   "cell_type": "code",
   "execution_count": 7,
   "id": "b9a9c801-76be-4232-9f37-b052bb523e78",
   "metadata": {
    "tags": []
   },
   "outputs": [
    {
     "data": {
      "text/plain": [
       "(610, 5)"
      ]
     },
     "execution_count": 7,
     "metadata": {},
     "output_type": "execute_result"
    }
   ],
   "source": [
    "migration.shape"
   ]
  },
  {
   "cell_type": "code",
   "execution_count": 8,
   "id": "3fb820a7-72a1-4d91-a361-173233cd2cf4",
   "metadata": {
    "tags": []
   },
   "outputs": [
    {
     "name": "stdout",
     "output_type": "stream",
     "text": [
      "<class 'pandas.core.frame.DataFrame'>\n",
      "RangeIndex: 610 entries, 0 to 609\n",
      "Data columns (total 5 columns):\n",
      " #   Column             Non-Null Count  Dtype  \n",
      "---  ------             --------------  -----  \n",
      " 0   Country            610 non-null    object \n",
      " 1   STATE OR PROVINCE  610 non-null    object \n",
      " 2   Year               610 non-null    int64  \n",
      " 3   Inbound            610 non-null    float64\n",
      " 4   Outbound           610 non-null    float64\n",
      "dtypes: float64(2), int64(1), object(2)\n",
      "memory usage: 24.0+ KB\n"
     ]
    }
   ],
   "source": [
    "migration.info()"
   ]
  },
  {
   "cell_type": "code",
   "execution_count": 9,
   "id": "c4d2c127-ab60-438d-b370-eb499bad3cc4",
   "metadata": {
    "tags": []
   },
   "outputs": [
    {
     "data": {
      "text/plain": [
       "Index(['country', 'state_or_province', 'year', 'inbound', 'outbound'], dtype='object')"
      ]
     },
     "execution_count": 9,
     "metadata": {},
     "output_type": "execute_result"
    }
   ],
   "source": [
    "# make columns lower case\n",
    "migration.columns = migration.columns.str.lower().str.replace(\" \", \"_\")\n",
    "migration.columns"
   ]
  },
  {
   "cell_type": "code",
   "execution_count": 10,
   "id": "c4b8ee40-9381-4b39-943e-5a2c63b99940",
   "metadata": {
    "tags": []
   },
   "outputs": [
    {
     "name": "stdout",
     "output_type": "stream",
     "text": [
      "<class 'pandas.core.frame.DataFrame'>\n",
      "RangeIndex: 610 entries, 0 to 609\n",
      "Data columns (total 5 columns):\n",
      " #   Column             Non-Null Count  Dtype  \n",
      "---  ------             --------------  -----  \n",
      " 0   country            610 non-null    object \n",
      " 1   state_or_province  610 non-null    object \n",
      " 2   year               610 non-null    int64  \n",
      " 3   inbound            610 non-null    float64\n",
      " 4   outbound           610 non-null    float64\n",
      "dtypes: float64(2), int64(1), object(2)\n",
      "memory usage: 24.0+ KB\n"
     ]
    }
   ],
   "source": [
    "migration.info()"
   ]
  },
  {
   "cell_type": "code",
   "execution_count": 11,
   "id": "ebad96a8-bde2-4133-9ac4-dac1d5b68937",
   "metadata": {
    "tags": []
   },
   "outputs": [],
   "source": [
    "# lower case all states\n",
    "migration.state_or_province = migration.state_or_province.str.lower()"
   ]
  },
  {
   "cell_type": "code",
   "execution_count": 12,
   "id": "c5e5a101-0fdf-444b-bb3b-237d1396380b",
   "metadata": {
    "tags": []
   },
   "outputs": [
    {
     "data": {
      "text/html": [
       "<div>\n",
       "<style scoped>\n",
       "    .dataframe tbody tr th:only-of-type {\n",
       "        vertical-align: middle;\n",
       "    }\n",
       "\n",
       "    .dataframe tbody tr th {\n",
       "        vertical-align: top;\n",
       "    }\n",
       "\n",
       "    .dataframe thead th {\n",
       "        text-align: right;\n",
       "    }\n",
       "</style>\n",
       "<table border=\"1\" class=\"dataframe\">\n",
       "  <thead>\n",
       "    <tr style=\"text-align: right;\">\n",
       "      <th></th>\n",
       "      <th>country</th>\n",
       "      <th>state_or_province</th>\n",
       "      <th>year</th>\n",
       "      <th>inbound</th>\n",
       "      <th>outbound</th>\n",
       "      <th>state_name</th>\n",
       "      <th>state_code</th>\n",
       "    </tr>\n",
       "  </thead>\n",
       "  <tbody>\n",
       "    <tr>\n",
       "      <th>0</th>\n",
       "      <td>United States</td>\n",
       "      <td>alabama</td>\n",
       "      <td>2022</td>\n",
       "      <td>0.57</td>\n",
       "      <td>0.43</td>\n",
       "      <td>alabama</td>\n",
       "      <td>AL</td>\n",
       "    </tr>\n",
       "    <tr>\n",
       "      <th>1</th>\n",
       "      <td>United States</td>\n",
       "      <td>alabama</td>\n",
       "      <td>2021</td>\n",
       "      <td>0.59</td>\n",
       "      <td>0.41</td>\n",
       "      <td>alabama</td>\n",
       "      <td>AL</td>\n",
       "    </tr>\n",
       "    <tr>\n",
       "      <th>2</th>\n",
       "      <td>United States</td>\n",
       "      <td>alabama</td>\n",
       "      <td>2020</td>\n",
       "      <td>0.61</td>\n",
       "      <td>0.39</td>\n",
       "      <td>alabama</td>\n",
       "      <td>AL</td>\n",
       "    </tr>\n",
       "    <tr>\n",
       "      <th>3</th>\n",
       "      <td>United States</td>\n",
       "      <td>alabama</td>\n",
       "      <td>2019</td>\n",
       "      <td>0.57</td>\n",
       "      <td>0.43</td>\n",
       "      <td>alabama</td>\n",
       "      <td>AL</td>\n",
       "    </tr>\n",
       "    <tr>\n",
       "      <th>4</th>\n",
       "      <td>United States</td>\n",
       "      <td>alabama</td>\n",
       "      <td>2018</td>\n",
       "      <td>0.56</td>\n",
       "      <td>0.44</td>\n",
       "      <td>alabama</td>\n",
       "      <td>AL</td>\n",
       "    </tr>\n",
       "  </tbody>\n",
       "</table>\n",
       "</div>"
      ],
      "text/plain": [
       "         country state_or_province  year  inbound  outbound state_name  \\\n",
       "0  United States           alabama  2022     0.57      0.43    alabama   \n",
       "1  United States           alabama  2021     0.59      0.41    alabama   \n",
       "2  United States           alabama  2020     0.61      0.39    alabama   \n",
       "3  United States           alabama  2019     0.57      0.43    alabama   \n",
       "4  United States           alabama  2018     0.56      0.44    alabama   \n",
       "\n",
       "  state_code  \n",
       "0         AL  \n",
       "1         AL  \n",
       "2         AL  \n",
       "3         AL  \n",
       "4         AL  "
      ]
     },
     "execution_count": 12,
     "metadata": {},
     "output_type": "execute_result"
    }
   ],
   "source": [
    "# merge the state initials on the migration data\n",
    "migration = migration.merge(initials, left_on='state_or_province', right_on='state_name', how='left')\n",
    "migration.head()"
   ]
  },
  {
   "cell_type": "code",
   "execution_count": 13,
   "id": "ffb0e7e0-5c4e-49ac-b94a-cc37756365e0",
   "metadata": {
    "tags": []
   },
   "outputs": [
    {
     "data": {
      "text/plain": [
       "country               0\n",
       "state_or_province     0\n",
       "year                  0\n",
       "inbound               0\n",
       "outbound              0\n",
       "state_name           30\n",
       "state_code           30\n",
       "dtype: int64"
      ]
     },
     "execution_count": 13,
     "metadata": {},
     "output_type": "execute_result"
    }
   ],
   "source": [
    "# check for null values\n",
    "migration.isna().sum()"
   ]
  },
  {
   "cell_type": "code",
   "execution_count": 14,
   "id": "0c0c0b1f-a394-49d3-a609-33bed6e829aa",
   "metadata": {
    "tags": []
   },
   "outputs": [],
   "source": [
    "# make year categorical\n",
    "migration.year = migration.year.astype(\"category\")"
   ]
  },
  {
   "cell_type": "code",
   "execution_count": 15,
   "id": "b4a30ff9-a09c-4893-b08e-9d0d298fde06",
   "metadata": {
    "tags": []
   },
   "outputs": [
    {
     "data": {
      "text/html": [
       "<div>\n",
       "<style scoped>\n",
       "    .dataframe tbody tr th:only-of-type {\n",
       "        vertical-align: middle;\n",
       "    }\n",
       "\n",
       "    .dataframe tbody tr th {\n",
       "        vertical-align: top;\n",
       "    }\n",
       "\n",
       "    .dataframe thead th {\n",
       "        text-align: right;\n",
       "    }\n",
       "</style>\n",
       "<table border=\"1\" class=\"dataframe\">\n",
       "  <thead>\n",
       "    <tr style=\"text-align: right;\">\n",
       "      <th></th>\n",
       "      <th>country</th>\n",
       "      <th>state_or_province</th>\n",
       "      <th>year</th>\n",
       "      <th>inbound</th>\n",
       "      <th>outbound</th>\n",
       "      <th>state_code</th>\n",
       "    </tr>\n",
       "  </thead>\n",
       "  <tbody>\n",
       "    <tr>\n",
       "      <th>0</th>\n",
       "      <td>United States</td>\n",
       "      <td>alabama</td>\n",
       "      <td>2022</td>\n",
       "      <td>0.57</td>\n",
       "      <td>0.43</td>\n",
       "      <td>AL</td>\n",
       "    </tr>\n",
       "    <tr>\n",
       "      <th>1</th>\n",
       "      <td>United States</td>\n",
       "      <td>alabama</td>\n",
       "      <td>2021</td>\n",
       "      <td>0.59</td>\n",
       "      <td>0.41</td>\n",
       "      <td>AL</td>\n",
       "    </tr>\n",
       "    <tr>\n",
       "      <th>2</th>\n",
       "      <td>United States</td>\n",
       "      <td>alabama</td>\n",
       "      <td>2020</td>\n",
       "      <td>0.61</td>\n",
       "      <td>0.39</td>\n",
       "      <td>AL</td>\n",
       "    </tr>\n",
       "    <tr>\n",
       "      <th>3</th>\n",
       "      <td>United States</td>\n",
       "      <td>alabama</td>\n",
       "      <td>2019</td>\n",
       "      <td>0.57</td>\n",
       "      <td>0.43</td>\n",
       "      <td>AL</td>\n",
       "    </tr>\n",
       "    <tr>\n",
       "      <th>4</th>\n",
       "      <td>United States</td>\n",
       "      <td>alabama</td>\n",
       "      <td>2018</td>\n",
       "      <td>0.56</td>\n",
       "      <td>0.44</td>\n",
       "      <td>AL</td>\n",
       "    </tr>\n",
       "  </tbody>\n",
       "</table>\n",
       "</div>"
      ],
      "text/plain": [
       "         country state_or_province  year  inbound  outbound state_code\n",
       "0  United States           alabama  2022     0.57      0.43         AL\n",
       "1  United States           alabama  2021     0.59      0.41         AL\n",
       "2  United States           alabama  2020     0.61      0.39         AL\n",
       "3  United States           alabama  2019     0.57      0.43         AL\n",
       "4  United States           alabama  2018     0.56      0.44         AL"
      ]
     },
     "execution_count": 15,
     "metadata": {},
     "output_type": "execute_result"
    }
   ],
   "source": [
    "# remove state name column\n",
    "migration = migration.drop(columns=['state_name'])\n",
    "migration.head()"
   ]
  },
  {
   "cell_type": "code",
   "execution_count": 16,
   "id": "21ffc549-342e-4546-9633-ddf9adf373df",
   "metadata": {
    "tags": []
   },
   "outputs": [],
   "source": [
    "# save data\n",
    "migration.to_csv(\"Household_goods_migration_patterns.csv\")"
   ]
  },
  {
   "cell_type": "markdown",
   "id": "0d2e1036-b4c1-48ab-85a7-71db7e099364",
   "metadata": {},
   "source": [
    "**Take aways**\n",
    "\n",
    "- 610 rows and 5 columns\n",
    "- 0 null counts\n",
    "- values contained in in/out bound are total shipment percetange"
   ]
  },
  {
   "cell_type": "code",
   "execution_count": 16,
   "id": "b4ec3327-b480-4d4b-a875-4474921faa46",
   "metadata": {
    "tags": []
   },
   "outputs": [],
   "source": [
    "# import tabula\n",
    "# import pandas as pd\n",
    "\n",
    "# # Specify the path to your PDF file\n",
    "# pdf_path = \"2022_Migration_Patterns PDF MAP.pdf\"\n",
    "\n",
    "# # Extract tables from the PDF and store them in a list of DataFrames\n",
    "# tables = tabula.read_pdf(pdf_path, pages=\"all\", multiple_tables=True)\n",
    "\n",
    "# # Loop through the list of DataFrames and process the tables as needed\n",
    "# for i, table in enumerate(tables):\n",
    "#     # Process each table, for example, print it\n",
    "#     print(f\"Table {i + 1}:\")\n",
    "#     print(table)\n"
   ]
  },
  {
   "cell_type": "code",
   "execution_count": null,
   "id": "502c2794-4f6c-4467-a9e8-618fe247841f",
   "metadata": {},
   "outputs": [],
   "source": []
  },
  {
   "cell_type": "code",
   "execution_count": null,
   "id": "12e0ca47-d010-4512-aadf-0efbb69847e6",
   "metadata": {},
   "outputs": [],
   "source": []
  }
 ],
 "metadata": {
  "kernelspec": {
   "display_name": "Python 3 (ipykernel)",
   "language": "python",
   "name": "python3"
  },
  "language_info": {
   "codemirror_mode": {
    "name": "ipython",
    "version": 3
   },
   "file_extension": ".py",
   "mimetype": "text/x-python",
   "name": "python",
   "nbconvert_exporter": "python",
   "pygments_lexer": "ipython3",
   "version": "3.11.5"
  }
 },
 "nbformat": 4,
 "nbformat_minor": 5
}
