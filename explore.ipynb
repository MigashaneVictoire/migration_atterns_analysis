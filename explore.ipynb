{
 "cells": [
  {
   "cell_type": "markdown",
   "id": "7d83276e-b298-421d-8209-6e1a2c571462",
   "metadata": {},
   "source": [
    "# Explore"
   ]
  },
  {
   "cell_type": "code",
   "execution_count": 1,
   "id": "103e7aaa-662f-4ab3-a140-f45943c688f1",
   "metadata": {
    "tags": []
   },
   "outputs": [],
   "source": [
    "import numpy as np\n",
    "import pandas as pd\n",
    "import seaborn as sns\n",
    "import matplotlib.pyplot as plt"
   ]
  },
  {
   "cell_type": "markdown",
   "id": "a9df3ab5-17da-4b31-b4b7-f48cfe83b1b4",
   "metadata": {},
   "source": [
    "**Get data**"
   ]
  },
  {
   "cell_type": "code",
   "execution_count": 2,
   "id": "75974aee-7bb6-4bf4-b922-7c3bb22b1e5f",
   "metadata": {
    "tags": []
   },
   "outputs": [
    {
     "data": {
      "text/html": [
       "<div>\n",
       "<style scoped>\n",
       "    .dataframe tbody tr th:only-of-type {\n",
       "        vertical-align: middle;\n",
       "    }\n",
       "\n",
       "    .dataframe tbody tr th {\n",
       "        vertical-align: top;\n",
       "    }\n",
       "\n",
       "    .dataframe thead th {\n",
       "        text-align: right;\n",
       "    }\n",
       "</style>\n",
       "<table border=\"1\" class=\"dataframe\">\n",
       "  <thead>\n",
       "    <tr style=\"text-align: right;\">\n",
       "      <th></th>\n",
       "      <th>country</th>\n",
       "      <th>state_or_province</th>\n",
       "      <th>year</th>\n",
       "      <th>inbound</th>\n",
       "      <th>outbound</th>\n",
       "    </tr>\n",
       "  </thead>\n",
       "  <tbody>\n",
       "    <tr>\n",
       "      <th>0</th>\n",
       "      <td>United States</td>\n",
       "      <td>ALABAMA</td>\n",
       "      <td>2022</td>\n",
       "      <td>0.57</td>\n",
       "      <td>0.43</td>\n",
       "    </tr>\n",
       "    <tr>\n",
       "      <th>1</th>\n",
       "      <td>United States</td>\n",
       "      <td>ALABAMA</td>\n",
       "      <td>2021</td>\n",
       "      <td>0.59</td>\n",
       "      <td>0.41</td>\n",
       "    </tr>\n",
       "    <tr>\n",
       "      <th>2</th>\n",
       "      <td>United States</td>\n",
       "      <td>ALABAMA</td>\n",
       "      <td>2020</td>\n",
       "      <td>0.61</td>\n",
       "      <td>0.39</td>\n",
       "    </tr>\n",
       "    <tr>\n",
       "      <th>3</th>\n",
       "      <td>United States</td>\n",
       "      <td>ALABAMA</td>\n",
       "      <td>2019</td>\n",
       "      <td>0.57</td>\n",
       "      <td>0.43</td>\n",
       "    </tr>\n",
       "    <tr>\n",
       "      <th>4</th>\n",
       "      <td>United States</td>\n",
       "      <td>ALABAMA</td>\n",
       "      <td>2018</td>\n",
       "      <td>0.56</td>\n",
       "      <td>0.44</td>\n",
       "    </tr>\n",
       "  </tbody>\n",
       "</table>\n",
       "</div>"
      ],
      "text/plain": [
       "         country state_or_province  year  inbound  outbound\n",
       "0  United States           ALABAMA  2022     0.57      0.43\n",
       "1  United States           ALABAMA  2021     0.59      0.41\n",
       "2  United States           ALABAMA  2020     0.61      0.39\n",
       "3  United States           ALABAMA  2019     0.57      0.43\n",
       "4  United States           ALABAMA  2018     0.56      0.44"
      ]
     },
     "execution_count": 2,
     "metadata": {},
     "output_type": "execute_result"
    }
   ],
   "source": [
    "migration = pd.read_csv(\"Household_goods_migration_patterns.csv\", index_col=0)\n",
    "migration.head()"
   ]
  },
  {
   "cell_type": "markdown",
   "id": "872a29d3-808c-4342-8c4d-012d53bb216d",
   "metadata": {},
   "source": [
    "## Which country have most people moving from/to?\n",
    "\n",
    "**inbound**"
   ]
  },
  {
   "cell_type": "code",
   "execution_count": 8,
   "id": "ad0c797f-fe84-4e34-904a-02f761aaa50c",
   "metadata": {
    "tags": []
   },
   "outputs": [
    {
     "data": {
      "image/png": "[encoded data removed]",
      "text/plain": [
       "<Figure size 640x480 with 1 Axes>"
      ]
     },
     "metadata": {},
     "output_type": "display_data"
    }
   ],
   "source": [
    "migration.groupby('country').inbound.agg([\"mean\"]).plot(kind=\"bar\")\n",
    "plt.title(\"Which country have most people moving to?\")\n",
    "plt.ylabel(\"population %\")\n",
    "plt.show()"
   ]
  },
  {
   "cell_type": "markdown",
   "id": "c3e219de-72e1-4868-82b4-e98f550e51e3",
   "metadata": {},
   "source": [
    "People are moving  to the United States more than they are in Canada."
   ]
  },
  {
   "cell_type": "markdown",
   "id": "c059059e-814e-4011-a281-3962163dd0d7",
   "metadata": {},
   "source": [
    "**outbound**"
   ]
  },
  {
   "cell_type": "code",
   "execution_count": 9,
   "id": "d41fa693-661b-40f2-b502-b531d72635ad",
   "metadata": {
    "tags": []
   },
   "outputs": [
    {
     "data": {
      "image/png": "[encoded data removed]",
      "text/plain": [
       "<Figure size 640x480 with 1 Axes>"
      ]
     },
     "metadata": {},
     "output_type": "display_data"
    }
   ],
   "source": [
    "migration.groupby('country').outbound.agg([\"mean\"]).plot(kind=\"bar\")\n",
    "plt.title(\"Which country have most people moving from?\")\n",
    "plt.ylabel(\"population %\")\n",
    "plt.show()"
   ]
  },
  {
   "cell_type": "markdown",
   "id": "5c3ad534-056a-4f66-ade6-b91f57e8e8d6",
   "metadata": {},
   "source": [
    "People are moving away from the United States more than they are in Canada."
   ]
  },
  {
   "cell_type": "markdown",
   "id": "56f12aca-6535-4df9-ae38-918f9613e0ca",
   "metadata": {},
   "source": [
    "## What states are most americans moving from/to?"
   ]
  },
  {
   "cell_type": "code",
   "execution_count": null,
   "id": "bb0944e1-fe7a-496e-944e-446874d7a614",
   "metadata": {
    "tags": []
   },
   "outputs": [],
   "source": []
  },
  {
   "cell_type": "code",
   "execution_count": null,
   "id": "50d53b92-fe79-4e0a-bbdc-3838c792e664",
   "metadata": {},
   "outputs": [],
   "source": []
  },
  {
   "cell_type": "code",
   "execution_count": null,
   "id": "c1de65b9-7ec4-4222-b65e-817eda90e77a",
   "metadata": {},
   "outputs": [],
   "source": []
  },
  {
   "cell_type": "code",
   "execution_count": null,
   "id": "28f7a3b6-0706-4138-9b00-6fb18634060f",
   "metadata": {},
   "outputs": [],
   "source": []
  },
  {
   "cell_type": "code",
   "execution_count": null,
   "id": "161443dd-57cd-4b24-9d77-0134206ad07a",
   "metadata": {},
   "outputs": [],
   "source": []
  },
  {
   "cell_type": "code",
   "execution_count": null,
   "id": "6d47e37f-fd7e-45d1-a25d-7104a131a1cc",
   "metadata": {},
   "outputs": [],
   "source": []
  },
  {
   "cell_type": "code",
   "execution_count": null,
   "id": "c9dda339-6a79-4106-9fef-8281f8937143",
   "metadata": {},
   "outputs": [],
   "source": []
  },
  {
   "cell_type": "code",
   "execution_count": null,
   "id": "b1a6195c-30d1-42e3-ac68-da65964322c6",
   "metadata": {},
   "outputs": [],
   "source": []
  },
  {
   "cell_type": "code",
   "execution_count": null,
   "id": "a437a520-3163-4d7d-8b31-c5616a5990ac",
   "metadata": {},
   "outputs": [],
   "source": []
  },
  {
   "cell_type": "code",
   "execution_count": null,
   "id": "a6a170b9-3172-4afd-8365-2e4b4489052f",
   "metadata": {},
   "outputs": [],
   "source": []
  }
 ],
 "metadata": {
  "kernelspec": {
   "display_name": "Python 3 (ipykernel)",
   "language": "python",
   "name": "python3"
  },
  "language_info": {
   "codemirror_mode": {
    "name": "ipython",
    "version": 3
   },
   "file_extension": ".py",
   "mimetype": "text/x-python",
   "name": "python",
   "nbconvert_exporter": "python",
   "pygments_lexer": "ipython3",
   "version": "3.11.5"
  }
 },
 "nbformat": 4,
 "nbformat_minor": 5
}
